{
 "cells": [
  {
   "cell_type": "code",
   "execution_count": 37,
   "id": "c5db447b-1b50-4c0a-8137-d5cb9765e629",
   "metadata": {},
   "outputs": [],
   "source": [
    "import pandas as pd\n",
    "pd.set_option('display.max_colwidth', None)"
   ]
  },
  {
   "cell_type": "markdown",
   "id": "9a137a9c-cb96-4f90-af8c-e37d5ba2ca67",
   "metadata": {},
   "source": [
    "## GQA\n",
    "\n",
    "* https://cs.stanford.edu/people/dorarad/gqa/download.html\n"
   ]
  },
  {
   "cell_type": "markdown",
   "id": "535309ae-4320-4628-832d-047c1164d360",
   "metadata": {},
   "source": [
    "### Test data "
   ]
  },
  {
   "cell_type": "code",
   "execution_count": 41,
   "id": "68a6ec59-f9b8-4a08-ba46-029f1968261d",
   "metadata": {},
   "outputs": [],
   "source": [
    "#major_colums = ['imageId', 'question']"
   ]
  },
  {
   "cell_type": "code",
   "execution_count": 42,
   "id": "3f7f8945-7d75-4df1-8b09-7fde22e735b4",
   "metadata": {},
   "outputs": [],
   "source": [
    "#test_df = pd.read_json(\"../data/gqa_test_demo.json\", orient=\"index\")[major_colums]"
   ]
  },
  {
   "cell_type": "code",
   "execution_count": 43,
   "id": "9ebaed67-2edb-4610-b310-a364c849fd04",
   "metadata": {},
   "outputs": [],
   "source": [
    "#test_df"
   ]
  },
  {
   "cell_type": "markdown",
   "id": "0bdaf1b6-6e8d-411b-a155-e892c8261725",
   "metadata": {},
   "source": [
    "### Train data"
   ]
  },
  {
   "cell_type": "code",
   "execution_count": 44,
   "id": "cf82bafb-960e-4f8d-9276-4e28be29ace0",
   "metadata": {},
   "outputs": [],
   "source": [
    "major_colums = ['imageId','question',  'answer', 'fullAnswer', 'groups', 'types']"
   ]
  },
  {
   "cell_type": "code",
   "execution_count": 45,
   "id": "c95ba3d9-3a3c-40cc-b1c1-f86a5f5d3e02",
   "metadata": {},
   "outputs": [],
   "source": [
    "train_df = pd.read_json(\"../data/gqa_train_demo.json\", orient=\"index\")"
   ]
  },
  {
   "cell_type": "code",
   "execution_count": 46,
   "id": "5151fc73-16a1-4515-b07f-76ab6588db0d",
   "metadata": {},
   "outputs": [],
   "source": [
    "train_df = train_df[major_colums]"
   ]
  },
  {
   "cell_type": "code",
   "execution_count": 47,
   "id": "28689da2-d0e0-408f-b153-9320e1530504",
   "metadata": {},
   "outputs": [
    {
     "data": {
      "text/html": [
       "<div>\n",
       "<style scoped>\n",
       "    .dataframe tbody tr th:only-of-type {\n",
       "        vertical-align: middle;\n",
       "    }\n",
       "\n",
       "    .dataframe tbody tr th {\n",
       "        vertical-align: top;\n",
       "    }\n",
       "\n",
       "    .dataframe thead th {\n",
       "        text-align: right;\n",
       "    }\n",
       "</style>\n",
       "<table border=\"1\" class=\"dataframe\">\n",
       "  <thead>\n",
       "    <tr style=\"text-align: right;\">\n",
       "      <th></th>\n",
       "      <th>imageId</th>\n",
       "      <th>question</th>\n",
       "      <th>answer</th>\n",
       "      <th>fullAnswer</th>\n",
       "      <th>groups</th>\n",
       "      <th>types</th>\n",
       "    </tr>\n",
       "  </thead>\n",
       "  <tbody>\n",
       "    <tr>\n",
       "      <th>2930152</th>\n",
       "      <td>2354786</td>\n",
       "      <td>Is the sky dark?</td>\n",
       "      <td>yes</td>\n",
       "      <td>Yes, the sky is dark.</td>\n",
       "      <td>{'global': None, 'local': '06-sky_dark'}</td>\n",
       "      <td>{'detailed': 'verifyAttr', 'semantic': 'attr', 'structural': 'verify'}</td>\n",
       "    </tr>\n",
       "    <tr>\n",
       "      <th>7333408</th>\n",
       "      <td>2375429</td>\n",
       "      <td>What is on the white wall?</td>\n",
       "      <td>pipe</td>\n",
       "      <td>The pipe is on the wall.</td>\n",
       "      <td>{'global': '', 'local': '14-wall_on,s'}</td>\n",
       "      <td>{'detailed': 'relS', 'semantic': 'rel', 'structural': 'query'}</td>\n",
       "    </tr>\n",
       "    <tr>\n",
       "      <th>7333405</th>\n",
       "      <td>2375429</td>\n",
       "      <td>Is that pipe red?</td>\n",
       "      <td>no</td>\n",
       "      <td>No, the pipe is white.</td>\n",
       "      <td>{'global': None, 'local': '06-pipe_red'}</td>\n",
       "      <td>{'detailed': 'verifyAttrC', 'semantic': 'attr', 'structural': 'verify'}</td>\n",
       "    </tr>\n",
       "    <tr>\n",
       "      <th>15736264</th>\n",
       "      <td>2368326</td>\n",
       "      <td>Is the tall clock small or large?</td>\n",
       "      <td>large</td>\n",
       "      <td>The clock is large.</td>\n",
       "      <td>{'global': 'size', 'local': '10c-clock_size'}</td>\n",
       "      <td>{'detailed': 'chooseAttr', 'semantic': 'attr', 'structural': 'choose'}</td>\n",
       "    </tr>\n",
       "    <tr>\n",
       "      <th>111007521</th>\n",
       "      <td>2331819</td>\n",
       "      <td>Who is wearing a shirt?</td>\n",
       "      <td>girl</td>\n",
       "      <td>The girl is wearing a shirt.</td>\n",
       "      <td>{'global': 'person', 'local': '14-shirt_wearing,s'}</td>\n",
       "      <td>{'detailed': 'relS', 'semantic': 'rel', 'structural': 'query'}</td>\n",
       "    </tr>\n",
       "    <tr>\n",
       "      <th>51004431</th>\n",
       "      <td>2324496</td>\n",
       "      <td>What do you think is he sleeping in?</td>\n",
       "      <td>bed</td>\n",
       "      <td>The man is sleeping in the bed.</td>\n",
       "      <td>{'global': 'furniture', 'local': '14-man_sleeping in,o'}</td>\n",
       "      <td>{'detailed': 'relO', 'semantic': 'rel', 'structural': 'query'}</td>\n",
       "    </tr>\n",
       "    <tr>\n",
       "      <th>7452748</th>\n",
       "      <td>2325360</td>\n",
       "      <td>Is the cheese to the left of the food on the plate?</td>\n",
       "      <td>yes</td>\n",
       "      <td>Yes, the cheese is to the left of the food.</td>\n",
       "      <td>{'global': None, 'local': '13-cheese_food'}</td>\n",
       "      <td>{'detailed': 'relVerify', 'semantic': 'rel', 'structural': 'verify'}</td>\n",
       "    </tr>\n",
       "    <tr>\n",
       "      <th>51004435</th>\n",
       "      <td>2324496</td>\n",
       "      <td>What is the piece of furniture that he is sleeping in?</td>\n",
       "      <td>bed</td>\n",
       "      <td>The piece of furniture is a bed.</td>\n",
       "      <td>{'global': 'furniture', 'local': '15-man_sleeping in,o'}</td>\n",
       "      <td>{'detailed': 'categoryRelO', 'semantic': 'rel', 'structural': 'query'}</td>\n",
       "    </tr>\n",
       "    <tr>\n",
       "      <th>19274091</th>\n",
       "      <td>2410353</td>\n",
       "      <td>What kind of furniture is to the right of the chair?</td>\n",
       "      <td>sofa</td>\n",
       "      <td>The piece of furniture is a sofa.</td>\n",
       "      <td>{'global': 'furniture', 'local': '15-chair_to the right of,s'}</td>\n",
       "      <td>{'detailed': 'categoryRelS', 'semantic': 'rel', 'structural': 'query'}</td>\n",
       "    </tr>\n",
       "    <tr>\n",
       "      <th>974084</th>\n",
       "      <td>2322142</td>\n",
       "      <td>Is the steel spatula in the top of the image?</td>\n",
       "      <td>no</td>\n",
       "      <td>No, the spatula is in the bottom of the image.</td>\n",
       "      <td>{'global': None, 'local': '06-spatula_top'}</td>\n",
       "      <td>{'detailed': 'positionVerifyC', 'semantic': 'attr', 'structural': 'verify'}</td>\n",
       "    </tr>\n",
       "  </tbody>\n",
       "</table>\n",
       "</div>"
      ],
      "text/plain": [
       "           imageId                                                question  \\\n",
       "2930152    2354786                                        Is the sky dark?   \n",
       "7333408    2375429                              What is on the white wall?   \n",
       "7333405    2375429                                       Is that pipe red?   \n",
       "15736264   2368326                       Is the tall clock small or large?   \n",
       "111007521  2331819                                 Who is wearing a shirt?   \n",
       "51004431   2324496                    What do you think is he sleeping in?   \n",
       "7452748    2325360     Is the cheese to the left of the food on the plate?   \n",
       "51004435   2324496  What is the piece of furniture that he is sleeping in?   \n",
       "19274091   2410353    What kind of furniture is to the right of the chair?   \n",
       "974084     2322142           Is the steel spatula in the top of the image?   \n",
       "\n",
       "          answer                                      fullAnswer  \\\n",
       "2930152      yes                           Yes, the sky is dark.   \n",
       "7333408     pipe                        The pipe is on the wall.   \n",
       "7333405       no                          No, the pipe is white.   \n",
       "15736264   large                             The clock is large.   \n",
       "111007521   girl                    The girl is wearing a shirt.   \n",
       "51004431     bed                 The man is sleeping in the bed.   \n",
       "7452748      yes     Yes, the cheese is to the left of the food.   \n",
       "51004435     bed                The piece of furniture is a bed.   \n",
       "19274091    sofa               The piece of furniture is a sofa.   \n",
       "974084        no  No, the spatula is in the bottom of the image.   \n",
       "\n",
       "                                                                   groups  \\\n",
       "2930152                          {'global': None, 'local': '06-sky_dark'}   \n",
       "7333408                           {'global': '', 'local': '14-wall_on,s'}   \n",
       "7333405                          {'global': None, 'local': '06-pipe_red'}   \n",
       "15736264                    {'global': 'size', 'local': '10c-clock_size'}   \n",
       "111007521             {'global': 'person', 'local': '14-shirt_wearing,s'}   \n",
       "51004431         {'global': 'furniture', 'local': '14-man_sleeping in,o'}   \n",
       "7452748                       {'global': None, 'local': '13-cheese_food'}   \n",
       "51004435         {'global': 'furniture', 'local': '15-man_sleeping in,o'}   \n",
       "19274091   {'global': 'furniture', 'local': '15-chair_to the right of,s'}   \n",
       "974084                        {'global': None, 'local': '06-spatula_top'}   \n",
       "\n",
       "                                                                                 types  \n",
       "2930152         {'detailed': 'verifyAttr', 'semantic': 'attr', 'structural': 'verify'}  \n",
       "7333408                 {'detailed': 'relS', 'semantic': 'rel', 'structural': 'query'}  \n",
       "7333405        {'detailed': 'verifyAttrC', 'semantic': 'attr', 'structural': 'verify'}  \n",
       "15736264        {'detailed': 'chooseAttr', 'semantic': 'attr', 'structural': 'choose'}  \n",
       "111007521               {'detailed': 'relS', 'semantic': 'rel', 'structural': 'query'}  \n",
       "51004431                {'detailed': 'relO', 'semantic': 'rel', 'structural': 'query'}  \n",
       "7452748           {'detailed': 'relVerify', 'semantic': 'rel', 'structural': 'verify'}  \n",
       "51004435        {'detailed': 'categoryRelO', 'semantic': 'rel', 'structural': 'query'}  \n",
       "19274091        {'detailed': 'categoryRelS', 'semantic': 'rel', 'structural': 'query'}  \n",
       "974084     {'detailed': 'positionVerifyC', 'semantic': 'attr', 'structural': 'verify'}  "
      ]
     },
     "execution_count": 47,
     "metadata": {},
     "output_type": "execute_result"
    }
   ],
   "source": [
    "train_df"
   ]
  },
  {
   "cell_type": "markdown",
   "id": "adfb6690-33cc-4743-a23c-8d97c75a30a0",
   "metadata": {},
   "source": [
    "# MS COCO"
   ]
  },
  {
   "cell_type": "code",
   "execution_count": 48,
   "id": "968a9431-2a67-403b-abda-fdcbe9496e7e",
   "metadata": {},
   "outputs": [],
   "source": [
    "# later"
   ]
  },
  {
   "cell_type": "code",
   "execution_count": null,
   "id": "2f0032b5-b2fa-4b90-a405-200642e7fac5",
   "metadata": {},
   "outputs": [],
   "source": []
  }
 ],
 "metadata": {
  "kernelspec": {
   "display_name": "Python 3 (ipykernel)",
   "language": "python",
   "name": "python3"
  },
  "language_info": {
   "codemirror_mode": {
    "name": "ipython",
    "version": 3
   },
   "file_extension": ".py",
   "mimetype": "text/x-python",
   "name": "python",
   "nbconvert_exporter": "python",
   "pygments_lexer": "ipython3",
   "version": "3.9.5"
  }
 },
 "nbformat": 4,
 "nbformat_minor": 5
}
